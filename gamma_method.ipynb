{
  "nbformat": 4,
  "nbformat_minor": 0,
  "metadata": {
    "colab": {
      "provenance": [],
      "toc_visible": true
    },
    "kernelspec": {
      "name": "python3",
      "display_name": "Python 3"
    },
    "language_info": {
      "name": "python"
    },
    "widgets": {
      "application/vnd.jupyter.widget-state+json": {
        "c0a3b88ac4634e768a252420e9c964af": {
          "model_module": "@jupyter-widgets/controls",
          "model_name": "HBoxModel",
          "model_module_version": "1.5.0",
          "state": {
            "_dom_classes": [],
            "_model_module": "@jupyter-widgets/controls",
            "_model_module_version": "1.5.0",
            "_model_name": "HBoxModel",
            "_view_count": null,
            "_view_module": "@jupyter-widgets/controls",
            "_view_module_version": "1.5.0",
            "_view_name": "HBoxView",
            "box_style": "",
            "children": [
              "IPY_MODEL_35a3df44618c4a6faa34ea389f59c0b9",
              "IPY_MODEL_5cb8f00c4fa04d7292ab0d8c711c05c0",
              "IPY_MODEL_4ce62f6d79954e3889c19a3abd6bf50d"
            ],
            "layout": "IPY_MODEL_8be0deddf6fe4669a9b7a119cc227073"
          }
        },
        "35a3df44618c4a6faa34ea389f59c0b9": {
          "model_module": "@jupyter-widgets/controls",
          "model_name": "HTMLModel",
          "model_module_version": "1.5.0",
          "state": {
            "_dom_classes": [],
            "_model_module": "@jupyter-widgets/controls",
            "_model_module_version": "1.5.0",
            "_model_name": "HTMLModel",
            "_view_count": null,
            "_view_module": "@jupyter-widgets/controls",
            "_view_module_version": "1.5.0",
            "_view_name": "HTMLView",
            "description": "",
            "description_tooltip": null,
            "layout": "IPY_MODEL_7a0fcda7a1254620b3d0405decf973c2",
            "placeholder": "​",
            "style": "IPY_MODEL_5bc5529d458b450182a5fd51575d6f61",
            "value": "100%"
          }
        },
        "5cb8f00c4fa04d7292ab0d8c711c05c0": {
          "model_module": "@jupyter-widgets/controls",
          "model_name": "FloatProgressModel",
          "model_module_version": "1.5.0",
          "state": {
            "_dom_classes": [],
            "_model_module": "@jupyter-widgets/controls",
            "_model_module_version": "1.5.0",
            "_model_name": "FloatProgressModel",
            "_view_count": null,
            "_view_module": "@jupyter-widgets/controls",
            "_view_module_version": "1.5.0",
            "_view_name": "ProgressView",
            "bar_style": "success",
            "description": "",
            "description_tooltip": null,
            "layout": "IPY_MODEL_4cc055161453460cb94e19f8df8a0714",
            "max": 1000,
            "min": 0,
            "orientation": "horizontal",
            "style": "IPY_MODEL_61c704e9f6604db0abdb1bbf1df65264",
            "value": 1000
          }
        },
        "4ce62f6d79954e3889c19a3abd6bf50d": {
          "model_module": "@jupyter-widgets/controls",
          "model_name": "HTMLModel",
          "model_module_version": "1.5.0",
          "state": {
            "_dom_classes": [],
            "_model_module": "@jupyter-widgets/controls",
            "_model_module_version": "1.5.0",
            "_model_name": "HTMLModel",
            "_view_count": null,
            "_view_module": "@jupyter-widgets/controls",
            "_view_module_version": "1.5.0",
            "_view_name": "HTMLView",
            "description": "",
            "description_tooltip": null,
            "layout": "IPY_MODEL_c6c837eaeae8475a88b8c3d04a7b0e70",
            "placeholder": "​",
            "style": "IPY_MODEL_1c0e4b1e0a174a8b91f8f04d41288b8c",
            "value": " 1000/1000 [00:00&lt;00:00, 20361.29it/s]"
          }
        },
        "8be0deddf6fe4669a9b7a119cc227073": {
          "model_module": "@jupyter-widgets/base",
          "model_name": "LayoutModel",
          "model_module_version": "1.2.0",
          "state": {
            "_model_module": "@jupyter-widgets/base",
            "_model_module_version": "1.2.0",
            "_model_name": "LayoutModel",
            "_view_count": null,
            "_view_module": "@jupyter-widgets/base",
            "_view_module_version": "1.2.0",
            "_view_name": "LayoutView",
            "align_content": null,
            "align_items": null,
            "align_self": null,
            "border": null,
            "bottom": null,
            "display": null,
            "flex": null,
            "flex_flow": null,
            "grid_area": null,
            "grid_auto_columns": null,
            "grid_auto_flow": null,
            "grid_auto_rows": null,
            "grid_column": null,
            "grid_gap": null,
            "grid_row": null,
            "grid_template_areas": null,
            "grid_template_columns": null,
            "grid_template_rows": null,
            "height": null,
            "justify_content": null,
            "justify_items": null,
            "left": null,
            "margin": null,
            "max_height": null,
            "max_width": null,
            "min_height": null,
            "min_width": null,
            "object_fit": null,
            "object_position": null,
            "order": null,
            "overflow": null,
            "overflow_x": null,
            "overflow_y": null,
            "padding": null,
            "right": null,
            "top": null,
            "visibility": null,
            "width": null
          }
        },
        "7a0fcda7a1254620b3d0405decf973c2": {
          "model_module": "@jupyter-widgets/base",
          "model_name": "LayoutModel",
          "model_module_version": "1.2.0",
          "state": {
            "_model_module": "@jupyter-widgets/base",
            "_model_module_version": "1.2.0",
            "_model_name": "LayoutModel",
            "_view_count": null,
            "_view_module": "@jupyter-widgets/base",
            "_view_module_version": "1.2.0",
            "_view_name": "LayoutView",
            "align_content": null,
            "align_items": null,
            "align_self": null,
            "border": null,
            "bottom": null,
            "display": null,
            "flex": null,
            "flex_flow": null,
            "grid_area": null,
            "grid_auto_columns": null,
            "grid_auto_flow": null,
            "grid_auto_rows": null,
            "grid_column": null,
            "grid_gap": null,
            "grid_row": null,
            "grid_template_areas": null,
            "grid_template_columns": null,
            "grid_template_rows": null,
            "height": null,
            "justify_content": null,
            "justify_items": null,
            "left": null,
            "margin": null,
            "max_height": null,
            "max_width": null,
            "min_height": null,
            "min_width": null,
            "object_fit": null,
            "object_position": null,
            "order": null,
            "overflow": null,
            "overflow_x": null,
            "overflow_y": null,
            "padding": null,
            "right": null,
            "top": null,
            "visibility": null,
            "width": null
          }
        },
        "5bc5529d458b450182a5fd51575d6f61": {
          "model_module": "@jupyter-widgets/controls",
          "model_name": "DescriptionStyleModel",
          "model_module_version": "1.5.0",
          "state": {
            "_model_module": "@jupyter-widgets/controls",
            "_model_module_version": "1.5.0",
            "_model_name": "DescriptionStyleModel",
            "_view_count": null,
            "_view_module": "@jupyter-widgets/base",
            "_view_module_version": "1.2.0",
            "_view_name": "StyleView",
            "description_width": ""
          }
        },
        "4cc055161453460cb94e19f8df8a0714": {
          "model_module": "@jupyter-widgets/base",
          "model_name": "LayoutModel",
          "model_module_version": "1.2.0",
          "state": {
            "_model_module": "@jupyter-widgets/base",
            "_model_module_version": "1.2.0",
            "_model_name": "LayoutModel",
            "_view_count": null,
            "_view_module": "@jupyter-widgets/base",
            "_view_module_version": "1.2.0",
            "_view_name": "LayoutView",
            "align_content": null,
            "align_items": null,
            "align_self": null,
            "border": null,
            "bottom": null,
            "display": null,
            "flex": null,
            "flex_flow": null,
            "grid_area": null,
            "grid_auto_columns": null,
            "grid_auto_flow": null,
            "grid_auto_rows": null,
            "grid_column": null,
            "grid_gap": null,
            "grid_row": null,
            "grid_template_areas": null,
            "grid_template_columns": null,
            "grid_template_rows": null,
            "height": null,
            "justify_content": null,
            "justify_items": null,
            "left": null,
            "margin": null,
            "max_height": null,
            "max_width": null,
            "min_height": null,
            "min_width": null,
            "object_fit": null,
            "object_position": null,
            "order": null,
            "overflow": null,
            "overflow_x": null,
            "overflow_y": null,
            "padding": null,
            "right": null,
            "top": null,
            "visibility": null,
            "width": null
          }
        },
        "61c704e9f6604db0abdb1bbf1df65264": {
          "model_module": "@jupyter-widgets/controls",
          "model_name": "ProgressStyleModel",
          "model_module_version": "1.5.0",
          "state": {
            "_model_module": "@jupyter-widgets/controls",
            "_model_module_version": "1.5.0",
            "_model_name": "ProgressStyleModel",
            "_view_count": null,
            "_view_module": "@jupyter-widgets/base",
            "_view_module_version": "1.2.0",
            "_view_name": "StyleView",
            "bar_color": null,
            "description_width": ""
          }
        },
        "c6c837eaeae8475a88b8c3d04a7b0e70": {
          "model_module": "@jupyter-widgets/base",
          "model_name": "LayoutModel",
          "model_module_version": "1.2.0",
          "state": {
            "_model_module": "@jupyter-widgets/base",
            "_model_module_version": "1.2.0",
            "_model_name": "LayoutModel",
            "_view_count": null,
            "_view_module": "@jupyter-widgets/base",
            "_view_module_version": "1.2.0",
            "_view_name": "LayoutView",
            "align_content": null,
            "align_items": null,
            "align_self": null,
            "border": null,
            "bottom": null,
            "display": null,
            "flex": null,
            "flex_flow": null,
            "grid_area": null,
            "grid_auto_columns": null,
            "grid_auto_flow": null,
            "grid_auto_rows": null,
            "grid_column": null,
            "grid_gap": null,
            "grid_row": null,
            "grid_template_areas": null,
            "grid_template_columns": null,
            "grid_template_rows": null,
            "height": null,
            "justify_content": null,
            "justify_items": null,
            "left": null,
            "margin": null,
            "max_height": null,
            "max_width": null,
            "min_height": null,
            "min_width": null,
            "object_fit": null,
            "object_position": null,
            "order": null,
            "overflow": null,
            "overflow_x": null,
            "overflow_y": null,
            "padding": null,
            "right": null,
            "top": null,
            "visibility": null,
            "width": null
          }
        },
        "1c0e4b1e0a174a8b91f8f04d41288b8c": {
          "model_module": "@jupyter-widgets/controls",
          "model_name": "DescriptionStyleModel",
          "model_module_version": "1.5.0",
          "state": {
            "_model_module": "@jupyter-widgets/controls",
            "_model_module_version": "1.5.0",
            "_model_name": "DescriptionStyleModel",
            "_view_count": null,
            "_view_module": "@jupyter-widgets/base",
            "_view_module_version": "1.2.0",
            "_view_name": "StyleView",
            "description_width": ""
          }
        },
        "f77c2579ec8f4467914905dd5ca3107a": {
          "model_module": "@jupyter-widgets/controls",
          "model_name": "HBoxModel",
          "model_module_version": "1.5.0",
          "state": {
            "_dom_classes": [],
            "_model_module": "@jupyter-widgets/controls",
            "_model_module_version": "1.5.0",
            "_model_name": "HBoxModel",
            "_view_count": null,
            "_view_module": "@jupyter-widgets/controls",
            "_view_module_version": "1.5.0",
            "_view_name": "HBoxView",
            "box_style": "",
            "children": [
              "IPY_MODEL_ab83a75e00d84024b7553a84cd743e36",
              "IPY_MODEL_8c2848e829434d0f9db4eff94de2b32c",
              "IPY_MODEL_4dfa47c5eaf4475db6c1e3a0122bbc38"
            ],
            "layout": "IPY_MODEL_9c9a4f3c66ca4143a013a47dbf65006f"
          }
        },
        "ab83a75e00d84024b7553a84cd743e36": {
          "model_module": "@jupyter-widgets/controls",
          "model_name": "HTMLModel",
          "model_module_version": "1.5.0",
          "state": {
            "_dom_classes": [],
            "_model_module": "@jupyter-widgets/controls",
            "_model_module_version": "1.5.0",
            "_model_name": "HTMLModel",
            "_view_count": null,
            "_view_module": "@jupyter-widgets/controls",
            "_view_module_version": "1.5.0",
            "_view_name": "HTMLView",
            "description": "",
            "description_tooltip": null,
            "layout": "IPY_MODEL_0608e0f6409148e8bcf3b81d5c132100",
            "placeholder": "​",
            "style": "IPY_MODEL_58aca591124e47d4b4a6a3eed9a232c7",
            "value": " 10%"
          }
        },
        "8c2848e829434d0f9db4eff94de2b32c": {
          "model_module": "@jupyter-widgets/controls",
          "model_name": "FloatProgressModel",
          "model_module_version": "1.5.0",
          "state": {
            "_dom_classes": [],
            "_model_module": "@jupyter-widgets/controls",
            "_model_module_version": "1.5.0",
            "_model_name": "FloatProgressModel",
            "_view_count": null,
            "_view_module": "@jupyter-widgets/controls",
            "_view_module_version": "1.5.0",
            "_view_name": "ProgressView",
            "bar_style": "danger",
            "description": "",
            "description_tooltip": null,
            "layout": "IPY_MODEL_579175ec137b40719f114df9503a8d99",
            "max": 1000,
            "min": 0,
            "orientation": "horizontal",
            "style": "IPY_MODEL_b965fba180e0419d983dc50cf1849572",
            "value": 97
          }
        },
        "4dfa47c5eaf4475db6c1e3a0122bbc38": {
          "model_module": "@jupyter-widgets/controls",
          "model_name": "HTMLModel",
          "model_module_version": "1.5.0",
          "state": {
            "_dom_classes": [],
            "_model_module": "@jupyter-widgets/controls",
            "_model_module_version": "1.5.0",
            "_model_name": "HTMLModel",
            "_view_count": null,
            "_view_module": "@jupyter-widgets/controls",
            "_view_module_version": "1.5.0",
            "_view_name": "HTMLView",
            "description": "",
            "description_tooltip": null,
            "layout": "IPY_MODEL_5f343b50ba7449bd86599dc4916d4077",
            "placeholder": "​",
            "style": "IPY_MODEL_ef26de8af7304c5db88c7822aea36adc",
            "value": " 97/1000 [00:09&lt;02:18,  6.50it/s]"
          }
        },
        "9c9a4f3c66ca4143a013a47dbf65006f": {
          "model_module": "@jupyter-widgets/base",
          "model_name": "LayoutModel",
          "model_module_version": "1.2.0",
          "state": {
            "_model_module": "@jupyter-widgets/base",
            "_model_module_version": "1.2.0",
            "_model_name": "LayoutModel",
            "_view_count": null,
            "_view_module": "@jupyter-widgets/base",
            "_view_module_version": "1.2.0",
            "_view_name": "LayoutView",
            "align_content": null,
            "align_items": null,
            "align_self": null,
            "border": null,
            "bottom": null,
            "display": null,
            "flex": null,
            "flex_flow": null,
            "grid_area": null,
            "grid_auto_columns": null,
            "grid_auto_flow": null,
            "grid_auto_rows": null,
            "grid_column": null,
            "grid_gap": null,
            "grid_row": null,
            "grid_template_areas": null,
            "grid_template_columns": null,
            "grid_template_rows": null,
            "height": null,
            "justify_content": null,
            "justify_items": null,
            "left": null,
            "margin": null,
            "max_height": null,
            "max_width": null,
            "min_height": null,
            "min_width": null,
            "object_fit": null,
            "object_position": null,
            "order": null,
            "overflow": null,
            "overflow_x": null,
            "overflow_y": null,
            "padding": null,
            "right": null,
            "top": null,
            "visibility": null,
            "width": null
          }
        },
        "0608e0f6409148e8bcf3b81d5c132100": {
          "model_module": "@jupyter-widgets/base",
          "model_name": "LayoutModel",
          "model_module_version": "1.2.0",
          "state": {
            "_model_module": "@jupyter-widgets/base",
            "_model_module_version": "1.2.0",
            "_model_name": "LayoutModel",
            "_view_count": null,
            "_view_module": "@jupyter-widgets/base",
            "_view_module_version": "1.2.0",
            "_view_name": "LayoutView",
            "align_content": null,
            "align_items": null,
            "align_self": null,
            "border": null,
            "bottom": null,
            "display": null,
            "flex": null,
            "flex_flow": null,
            "grid_area": null,
            "grid_auto_columns": null,
            "grid_auto_flow": null,
            "grid_auto_rows": null,
            "grid_column": null,
            "grid_gap": null,
            "grid_row": null,
            "grid_template_areas": null,
            "grid_template_columns": null,
            "grid_template_rows": null,
            "height": null,
            "justify_content": null,
            "justify_items": null,
            "left": null,
            "margin": null,
            "max_height": null,
            "max_width": null,
            "min_height": null,
            "min_width": null,
            "object_fit": null,
            "object_position": null,
            "order": null,
            "overflow": null,
            "overflow_x": null,
            "overflow_y": null,
            "padding": null,
            "right": null,
            "top": null,
            "visibility": null,
            "width": null
          }
        },
        "58aca591124e47d4b4a6a3eed9a232c7": {
          "model_module": "@jupyter-widgets/controls",
          "model_name": "DescriptionStyleModel",
          "model_module_version": "1.5.0",
          "state": {
            "_model_module": "@jupyter-widgets/controls",
            "_model_module_version": "1.5.0",
            "_model_name": "DescriptionStyleModel",
            "_view_count": null,
            "_view_module": "@jupyter-widgets/base",
            "_view_module_version": "1.2.0",
            "_view_name": "StyleView",
            "description_width": ""
          }
        },
        "579175ec137b40719f114df9503a8d99": {
          "model_module": "@jupyter-widgets/base",
          "model_name": "LayoutModel",
          "model_module_version": "1.2.0",
          "state": {
            "_model_module": "@jupyter-widgets/base",
            "_model_module_version": "1.2.0",
            "_model_name": "LayoutModel",
            "_view_count": null,
            "_view_module": "@jupyter-widgets/base",
            "_view_module_version": "1.2.0",
            "_view_name": "LayoutView",
            "align_content": null,
            "align_items": null,
            "align_self": null,
            "border": null,
            "bottom": null,
            "display": null,
            "flex": null,
            "flex_flow": null,
            "grid_area": null,
            "grid_auto_columns": null,
            "grid_auto_flow": null,
            "grid_auto_rows": null,
            "grid_column": null,
            "grid_gap": null,
            "grid_row": null,
            "grid_template_areas": null,
            "grid_template_columns": null,
            "grid_template_rows": null,
            "height": null,
            "justify_content": null,
            "justify_items": null,
            "left": null,
            "margin": null,
            "max_height": null,
            "max_width": null,
            "min_height": null,
            "min_width": null,
            "object_fit": null,
            "object_position": null,
            "order": null,
            "overflow": null,
            "overflow_x": null,
            "overflow_y": null,
            "padding": null,
            "right": null,
            "top": null,
            "visibility": null,
            "width": null
          }
        },
        "b965fba180e0419d983dc50cf1849572": {
          "model_module": "@jupyter-widgets/controls",
          "model_name": "ProgressStyleModel",
          "model_module_version": "1.5.0",
          "state": {
            "_model_module": "@jupyter-widgets/controls",
            "_model_module_version": "1.5.0",
            "_model_name": "ProgressStyleModel",
            "_view_count": null,
            "_view_module": "@jupyter-widgets/base",
            "_view_module_version": "1.2.0",
            "_view_name": "StyleView",
            "bar_color": null,
            "description_width": ""
          }
        },
        "5f343b50ba7449bd86599dc4916d4077": {
          "model_module": "@jupyter-widgets/base",
          "model_name": "LayoutModel",
          "model_module_version": "1.2.0",
          "state": {
            "_model_module": "@jupyter-widgets/base",
            "_model_module_version": "1.2.0",
            "_model_name": "LayoutModel",
            "_view_count": null,
            "_view_module": "@jupyter-widgets/base",
            "_view_module_version": "1.2.0",
            "_view_name": "LayoutView",
            "align_content": null,
            "align_items": null,
            "align_self": null,
            "border": null,
            "bottom": null,
            "display": null,
            "flex": null,
            "flex_flow": null,
            "grid_area": null,
            "grid_auto_columns": null,
            "grid_auto_flow": null,
            "grid_auto_rows": null,
            "grid_column": null,
            "grid_gap": null,
            "grid_row": null,
            "grid_template_areas": null,
            "grid_template_columns": null,
            "grid_template_rows": null,
            "height": null,
            "justify_content": null,
            "justify_items": null,
            "left": null,
            "margin": null,
            "max_height": null,
            "max_width": null,
            "min_height": null,
            "min_width": null,
            "object_fit": null,
            "object_position": null,
            "order": null,
            "overflow": null,
            "overflow_x": null,
            "overflow_y": null,
            "padding": null,
            "right": null,
            "top": null,
            "visibility": null,
            "width": null
          }
        },
        "ef26de8af7304c5db88c7822aea36adc": {
          "model_module": "@jupyter-widgets/controls",
          "model_name": "DescriptionStyleModel",
          "model_module_version": "1.5.0",
          "state": {
            "_model_module": "@jupyter-widgets/controls",
            "_model_module_version": "1.5.0",
            "_model_name": "DescriptionStyleModel",
            "_view_count": null,
            "_view_module": "@jupyter-widgets/base",
            "_view_module_version": "1.2.0",
            "_view_name": "StyleView",
            "description_width": ""
          }
        }
      }
    }
  },
  "cells": [
    {
      "cell_type": "markdown",
      "source": [
        "# start"
      ],
      "metadata": {
        "id": "HYrvklMunVtP"
      }
    },
    {
      "cell_type": "code",
      "execution_count": 17,
      "metadata": {
        "id": "yjUzUfCuj3AC"
      },
      "outputs": [],
      "source": [
        "import numpy as np\n",
        "from tqdm.notebook import tqdm\n",
        "%matplotlib inline\n",
        "import matplotlib.pyplot as plt"
      ]
    },
    {
      "cell_type": "markdown",
      "source": [
        "# functions"
      ],
      "metadata": {
        "id": "dLQo1ey6nYbI"
      }
    },
    {
      "cell_type": "code",
      "source": [
        "def calc_jackknife_mean_and_error(\n",
        "        x: np.ndarray):\n",
        "    \"\"\"Return jackknife estimates of means and errors for independent Markov\n",
        "    chains. First axis of x is timestep, remaining axes are left intact.\"\"\"\n",
        "    means = []\n",
        "    for t in range(x.shape[0]):\n",
        "        means.append(np.delete(x, t, 0).mean(0))\n",
        "    means = np.array(means)\n",
        "    mean = means.mean(0)\n",
        "    error = np.sqrt((x.shape[0]-1)*((means-mean)**2).mean(0))\n",
        "    return mean, error\n",
        "\n",
        "def calc_autocorr_func_at_t(\n",
        "        x: np.ndarray,\n",
        "        t: int):\n",
        "    \"\"\"Return measured values of autocorrelation function at timestep t for\n",
        "    independent (but identically distributed) Markov chains. First axis of x is\n",
        "    timestep, remaining axes are left intact.\"\"\"\n",
        "    global_mean = x.mean()\n",
        "    if t == 0:\n",
        "        return ((x-global_mean)**2).mean(0)\n",
        "    else:\n",
        "        return ((x[:-t]-global_mean)*(x[t:]-global_mean)).mean(0)\n",
        "\n",
        "def calc_autocorr_func_and_time(\n",
        "        x: np.ndarray,\n",
        "        t_max: int):\n",
        "    \"\"\"Return estimates of autocorrelation function up to t_max and integrated\n",
        "    autocorrelation time, including jackknife error estimates.\"\"\"\n",
        "    autocorr_func_vals = []\n",
        "    autocorr_func_mean_and_error = []\n",
        "    for t in range(t_max):\n",
        "        autocorr_func_at_t = calc_autocorr_func_at_t(x, t)\n",
        "        autocorr_func_vals.append(autocorr_func_at_t)\n",
        "        autocorr_func_mean_and_error.append(\n",
        "            calc_jackknife_mean_and_error(autocorr_func_at_t))\n",
        "    autocorr_func_vals = np.array(autocorr_func_vals)\n",
        "    autocorr_func_mean_and_error = np.array(autocorr_func_mean_and_error)\n",
        "    autocorr_time = 0.5 + (autocorr_func_vals[1:]/autocorr_func_vals[0]).sum(0)\n",
        "    autocorr_time_mean, autocorr_time_error = \\\n",
        "        calc_jackknife_mean_and_error(autocorr_time)\n",
        "    return autocorr_func_mean_and_error, autocorr_time_mean, autocorr_time_error"
      ],
      "metadata": {
        "id": "j_hS8XBHkFJp"
      },
      "execution_count": 18,
      "outputs": []
    },
    {
      "cell_type": "markdown",
      "source": [
        "# correlated data"
      ],
      "metadata": {
        "id": "Ip_AJi5anaC2"
      }
    },
    {
      "cell_type": "markdown",
      "source": [
        "Generate $n_{chains}$ independent Markov chains of correlated Gaussian noise data with $n_{steps}$ timesteps each. Correlation strength controlled by parameter $r \\in [0,1]$ (larger values ~ stronger correlation)."
      ],
      "metadata": {
        "id": "Tqld6ImUned-"
      }
    },
    {
      "cell_type": "code",
      "source": [
        "n_chains = 100\n",
        "n_steps = 1000\n",
        "r = 0.9\n",
        "\n",
        "x = [np.random.randn(n_chains)]\n",
        "for _ in tqdm(range(n_steps)):\n",
        "    x.append(r*x[-1] + np.sqrt(1-r**2)*np.random.randn(n_chains))\n",
        "x = np.array(x)"
      ],
      "metadata": {
        "id": "NTr7bKMtkOHG",
        "colab": {
          "base_uri": "https://localhost:8080/",
          "height": 49,
          "referenced_widgets": [
            "c0a3b88ac4634e768a252420e9c964af",
            "35a3df44618c4a6faa34ea389f59c0b9",
            "5cb8f00c4fa04d7292ab0d8c711c05c0",
            "4ce62f6d79954e3889c19a3abd6bf50d",
            "8be0deddf6fe4669a9b7a119cc227073",
            "7a0fcda7a1254620b3d0405decf973c2",
            "5bc5529d458b450182a5fd51575d6f61",
            "4cc055161453460cb94e19f8df8a0714",
            "61c704e9f6604db0abdb1bbf1df65264",
            "c6c837eaeae8475a88b8c3d04a7b0e70",
            "1c0e4b1e0a174a8b91f8f04d41288b8c"
          ]
        },
        "outputId": "c7df44d3-cc50-4201-9bda-6cad35899201"
      },
      "execution_count": 19,
      "outputs": [
        {
          "output_type": "display_data",
          "data": {
            "text/plain": [
              "  0%|          | 0/1000 [00:00<?, ?it/s]"
            ],
            "application/vnd.jupyter.widget-view+json": {
              "version_major": 2,
              "version_minor": 0,
              "model_id": "c0a3b88ac4634e768a252420e9c964af"
            }
          },
          "metadata": {}
        }
      ]
    },
    {
      "cell_type": "markdown",
      "source": [
        "Plot some example chains."
      ],
      "metadata": {
        "id": "G5ENUqfPnxB6"
      }
    },
    {
      "cell_type": "code",
      "source": [
        "plt.xlabel('t')\n",
        "plt.ylabel('x')\n",
        "plt.plot(x[:,0])\n",
        "plt.plot(x[:,1])\n",
        "plt.plot(x[:,2])"
      ],
      "metadata": {
        "colab": {
          "base_uri": "https://localhost:8080/",
          "height": 472
        },
        "id": "daYt2p3GkZ_E",
        "outputId": "8c8a85d5-70ad-477d-a90f-f64edddec27d"
      },
      "execution_count": 20,
      "outputs": [
        {
          "output_type": "execute_result",
          "data": {
            "text/plain": [
              "[<matplotlib.lines.Line2D at 0x7b30e551f490>]"
            ]
          },
          "metadata": {},
          "execution_count": 20
        },
        {
          "output_type": "display_data",
          "data": {
            "text/plain": [
              "<Figure size 640x480 with 1 Axes>"
            ],
            "image/png": "[encoded data removed]"
          },
          "metadata": {}
        }
      ]
    },
    {
      "cell_type": "markdown",
      "source": [
        "# autocorrelation at fixed $t_{max}$"
      ],
      "metadata": {
        "id": "RWT166Y7ny0e"
      }
    },
    {
      "cell_type": "markdown",
      "source": [
        "Compute mean and error estimates of the autocorrelation function and integrated autocorrelation time at fixed window size $t_{max} = n_{steps}$."
      ],
      "metadata": {
        "id": "xliT09Vfn4UO"
      }
    },
    {
      "cell_type": "code",
      "source": [
        "t_max = n_steps\n",
        "autocorr_func, autocorr_time_mean, autocorr_time_error = \\\n",
        "    calc_autocorr_func_and_time(x, t_max)\n",
        "print(f't_int = {autocorr_time_mean} +/- {autocorr_time_error}')"
      ],
      "metadata": {
        "id": "SdK3Nbltkqax",
        "colab": {
          "base_uri": "https://localhost:8080/"
        },
        "outputId": "6fa1c987-4676-4508-8a7b-e0bb3d88becb"
      },
      "execution_count": 21,
      "outputs": [
        {
          "output_type": "stream",
          "name": "stdout",
          "text": [
            "t_int = 16.76220656169693 +/- 5.314510954974412\n"
          ]
        }
      ]
    },
    {
      "cell_type": "code",
      "source": [
        "plt.xlabel('t')\n",
        "plt.ylabel('a(t)')\n",
        "plt.plot(\n",
        "    list(range(t_max)),\n",
        "    autocorr_func[:,0],\n",
        "    color='cornflowerblue')\n",
        "plt.fill_between(\n",
        "    list(range(t_max)),\n",
        "    autocorr_func[:,0]-autocorr_func[:,1],\n",
        "    autocorr_func[:,0]+autocorr_func[:,1],\n",
        "    alpha=0.2,\n",
        "    color='cornflowerblue')"
      ],
      "metadata": {
        "colab": {
          "base_uri": "https://localhost:8080/",
          "height": 466
        },
        "id": "UasCkihlmf6P",
        "outputId": "c8e96f8c-0608-4310-8be9-54910bd3b564"
      },
      "execution_count": 22,
      "outputs": [
        {
          "output_type": "execute_result",
          "data": {
            "text/plain": [
              "<matplotlib.collections.PolyCollection at 0x7b30e562db10>"
            ]
          },
          "metadata": {},
          "execution_count": 22
        },
        {
          "output_type": "display_data",
          "data": {
            "text/plain": [
              "<Figure size 640x480 with 1 Axes>"
            ],
            "image/png": "[encoded data removed]"
          },
          "metadata": {}
        }
      ]
    },
    {
      "cell_type": "markdown",
      "source": [
        "One can see how the signal/noise ratio deteriorates at large $t$ due to the smaller number of data points available for estimating the autocorrelation function, implying the existence of an optimal window size smaller than $n_{steps}$."
      ],
      "metadata": {
        "id": "iqcBnbLfNSGK"
      }
    },
    {
      "cell_type": "markdown",
      "source": [
        "# $\\Gamma$ method"
      ],
      "metadata": {
        "id": "D5HvfvM9oTEG"
      }
    },
    {
      "cell_type": "markdown",
      "source": [
        "Automatically find optimal window size using the $\\Gamma$ method, $c$ is a free parameter."
      ],
      "metadata": {
        "id": "w55tFuzqoV0F"
      }
    },
    {
      "cell_type": "code",
      "source": [
        "c = 10\n",
        "t_max = 1\n",
        "_, t_int, t_int_error = \\\n",
        "    calc_autocorr_func_and_time(x, t_max)\n",
        "with tqdm(total=n_steps) as progress:\n",
        "    while c*t_int > t_max:\n",
        "        t_max += 1\n",
        "        _, t_int, t_int_error = calc_autocorr_func_and_time(x, t_max)\n",
        "        progress.update(1)\n",
        "print(f'optimal window size: t_max = {t_max}')\n",
        "print(f't_int = {t_int} +/- {t_int_error}')"
      ],
      "metadata": {
        "colab": {
          "base_uri": "https://localhost:8080/",
          "height": 84,
          "referenced_widgets": [
            "f77c2579ec8f4467914905dd5ca3107a",
            "ab83a75e00d84024b7553a84cd743e36",
            "8c2848e829434d0f9db4eff94de2b32c",
            "4dfa47c5eaf4475db6c1e3a0122bbc38",
            "9c9a4f3c66ca4143a013a47dbf65006f",
            "0608e0f6409148e8bcf3b81d5c132100",
            "58aca591124e47d4b4a6a3eed9a232c7",
            "579175ec137b40719f114df9503a8d99",
            "b965fba180e0419d983dc50cf1849572",
            "5f343b50ba7449bd86599dc4916d4077",
            "ef26de8af7304c5db88c7822aea36adc"
          ]
        },
        "id": "goZK31Y3kjow",
        "outputId": "c951e950-d62f-4c44-8807-4d07ca27e88b"
      },
      "execution_count": 23,
      "outputs": [
        {
          "output_type": "display_data",
          "data": {
            "text/plain": [
              "  0%|          | 0/1000 [00:00<?, ?it/s]"
            ],
            "application/vnd.jupyter.widget-view+json": {
              "version_major": 2,
              "version_minor": 0,
              "model_id": "f77c2579ec8f4467914905dd5ca3107a"
            }
          },
          "metadata": {}
        },
        {
          "output_type": "stream",
          "name": "stdout",
          "text": [
            "optimal window size: t_max = 98\n",
            "t_int = 9.709943390070137 +/- 0.5493642439010812\n"
          ]
        }
      ]
    },
    {
      "cell_type": "markdown",
      "source": [
        "# end"
      ],
      "metadata": {
        "id": "lxPyYkxUowGd"
      }
    }
  ]
}